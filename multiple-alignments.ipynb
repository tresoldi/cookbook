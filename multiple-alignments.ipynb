{
 "cells": [
  {
   "cell_type": "markdown",
   "metadata": {},
   "source": [
    "Multiple alignments in LingPy\n",
    "============="
   ]
  },
  {
   "cell_type": "markdown",
   "metadata": {},
   "source": [
    "We can use LingPy to perform multiple sequence alignments according to different sound class models. Here, we are going to demonstrate how to perform such alignments with two different models, ```sca``` (the default model in LingPy) and ```tresoldi``` (a tentative model in which no classes are used; i.e., each phoneme maps only to itself and the score matrix accounts for each unique phoneme by phoneme comparison)."
   ]
  },
  {
   "cell_type": "markdown",
   "metadata": {},
   "source": [
    "We first load the library; in order to not pollute your namespace, you might prefer alternatives such as ```import lingpy``` or ```import lingpy as lp```. We also define some toy cognate sets to be aligned."
   ]
  },
  {
   "cell_type": "code",
   "execution_count": 10,
   "metadata": {
    "collapsed": false,
    "scrolled": true
   },
   "outputs": [],
   "source": [
    "from lingpy import *\n",
    "\n",
    "cognates = [\n",
    "    ['woldemort','waldemar','wladimir','vladymyr'], # most not be named\n",
    "    ['mo:dor', 'moðir', 'maater', 'meeteer', 'maatar'], # similar to some PIE reflexes\n",
    "    ['tal', 'bla', 'alt', 'odo', 'tri'], # fake data for stressing the alignment\n",
    "]"
   ]
  },
  {
   "cell_type": "markdown",
   "metadata": {},
   "source": [
    "We can now align the cognate sets and show the differences (if any) among the models."
   ]
  },
  {
   "cell_type": "code",
   "execution_count": 11,
   "metadata": {
    "collapsed": false
   },
   "outputs": [
    {
     "name": "stdout",
     "output_type": "stream",
     "text": [
      "COGNATE SET #0\n",
      "==============\n",
      "\n",
      "prog_sca_-2_0.5_0.3_neighbor_0.5__T\n",
      "w\to\tl\t-\td\te\tm\to\tr\tt\n",
      "w\ta\tl\t-\td\te\tm\ta\tr\t-\n",
      "w\t-\tl\ta\td\ti\tm\ti\tr\t-\n",
      "v\t-\tl\ta\td\ty\tm\ty\tr\t-\n",
      "\n",
      "\n",
      "prog_tresoldi_-2_0.5_0.3_neighbor_0.5__T\n",
      "w\to\tl\t-\td\te\tm\to\tr\tt\n",
      "w\ta\tl\t-\td\te\tm\ta\tr\t-\n",
      "-\tw\tl\ta\td\ti\tm\ti\tr\t-\n",
      "-\tv\tl\ta\td\ty\tm\ty\tr\t-\n",
      "\n",
      "\n",
      "COGNATE SET #1\n",
      "==============\n",
      "\n",
      "prog_sca_-2_0.5_0.3_neighbor_0.5__T\n",
      "m\to:\td\to\tr\n",
      "m\to\tð\ti\tr\n",
      "m\taa\tt\te\tr\n",
      "m\tee\tt\tee\tr\n",
      "m\taa\tt\ta\tr\n",
      "\n",
      "\n",
      "prog_tresoldi_-2_0.5_0.3_neighbor_0.5__T\n",
      "m\to:\td\to\tr\n",
      "m\to\tð\ti\tr\n",
      "m\taa\tt\te\tr\n",
      "m\tee\tt\tee\tr\n",
      "m\taa\tt\ta\tr\n",
      "\n",
      "\n",
      "COGNATE SET #2\n",
      "==============\n",
      "\n",
      "prog_sca_-2_0.5_0.3_neighbor_0.5__T\n",
      "t\ta\tl\t-\t-\n",
      "b\t-\tl\t-\ta\n",
      "-\ta\tl\tt\t-\n",
      "-\to\t-\td\to\n",
      "t\t-\tr\t-\ti\n",
      "\n",
      "\n",
      "prog_tresoldi_-2_0.5_0.3_neighbor_0.5__T\n",
      "t\ta\tl\t-\t-\n",
      "b\t-\tl\t-\ta\n",
      "-\ta\tl\tt\t-\n",
      "-\t-\to\td\to\n",
      "t\tr\ti\t-\t-\n",
      "\n",
      "\n"
     ]
    }
   ],
   "source": [
    "for i, cognate in enumerate(cognates):\n",
    "    # build all models and align\n",
    "    aligner_sca = Multiple(cognate)\n",
    "    aligner_sca.prog_align(model='sca')\n",
    "\n",
    "    aligner_tresoldi = Multiple(cognate)\n",
    "    aligner_tresoldi.prog_align(model='tresoldi')\n",
    "\n",
    "    # show informations and alignments\n",
    "    buf = 'COGNATE SET #%i' % i\n",
    "    print(buf)\n",
    "    print('='*len(buf) + '\\n')\n",
    "    \n",
    "    print(aligner_sca.params)\n",
    "    print(aligner_sca)\n",
    "    print('\\n')\n",
    "\n",
    "    print(aligner_tresoldi.params)\n",
    "    print(aligner_tresoldi)\n",
    "    print('\\n')"
   ]
  }
 ],
 "metadata": {
  "anaconda-cloud": {},
  "kernelspec": {
   "display_name": "Python [conda root]",
   "language": "python",
   "name": "conda-root-py"
  },
  "language_info": {
   "codemirror_mode": {
    "name": "ipython",
    "version": 3
   },
   "file_extension": ".py",
   "mimetype": "text/x-python",
   "name": "python",
   "nbconvert_exporter": "python",
   "pygments_lexer": "ipython3",
   "version": "3.5.2"
  }
 },
 "nbformat": 4,
 "nbformat_minor": 2
}
